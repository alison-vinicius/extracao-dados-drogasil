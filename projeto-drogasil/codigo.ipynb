{
 "cells": [
  {
   "cell_type": "code",
   "execution_count": null,
   "metadata": {},
   "outputs": [],
   "source": [
    "print(\"ola mundo\")"
   ]
  },
  {
   "cell_type": "markdown",
   "metadata": {},
   "source": [
    "IMPORTAÇÕES DA BIBLIOTECA"
   ]
  },
  {
   "cell_type": "code",
   "execution_count": 2,
   "metadata": {},
   "outputs": [],
   "source": [
    "from selenium import webdriver\n",
    "from selenium.webdriver.chrome.service import Service\n",
    "from selenium.webdriver.common.by import By"
   ]
  },
  {
   "cell_type": "markdown",
   "metadata": {},
   "source": [
    "INICIALIZANDO UMA INSTANCIA DO GOOGLE CHROME"
   ]
  },
  {
   "cell_type": "code",
   "execution_count": 12,
   "metadata": {},
   "outputs": [],
   "source": [
    "# A classe Service é usada para iniciar uma instancia do chrome webDriver\n",
    "service = Service()\n",
    "\n",
    "#webdriver.ChromeOptions é usado para definir a preferencia para o chrome\n",
    "options = webdriver.ChromeOptions()\n",
    "\n",
    "#inicia uma instancia do chorme webDriver com as definidas 'options' e 'Service'\n",
    "\n",
    "driver = webdriver.Chrome(service=service, options=options)\n",
    "url = \"https://www.drogasil.com.br/medicamentos.html\"\n",
    "driver.get(url)\n"
   ]
  },
  {
   "cell_type": "markdown",
   "metadata": {},
   "source": [
    "MEDICAMENTOS DA PRIMEIRA PAGINA"
   ]
  },
  {
   "cell_type": "code",
   "execution_count": 63,
   "metadata": {},
   "outputs": [
    {
     "name": "stdout",
     "output_type": "stream",
     "text": [
      "R$7,29\n",
      "R$34,90\n",
      "R$10,69\n",
      "R$18,90\n",
      "R$26,69\n",
      "R$105,99\n",
      "R$135,99\n",
      "R$10,29\n",
      "R$50,79\n",
      "R$49,34\n",
      "R$42,36\n",
      "R$63,16\n",
      "R$73,64\n",
      "R$28,22\n",
      "R$28,95\n",
      "R$117,90\n",
      "R$50,99\n",
      "R$63,59\n",
      "R$85,18\n",
      "R$291,74\n",
      "R$484,98\n",
      "R$90,99\n",
      "R$3,63\n",
      "R$133,49\n",
      "R$399,99\n",
      "R$490,97\n",
      "R$292,41\n",
      "R$112,46\n",
      "R$86,74\n",
      "R$85,08\n",
      "R$136,39\n",
      "R$274,99\n",
      "R$431,18\n",
      "R$41,62\n",
      "R$431,16\n",
      "R$317,27\n",
      "R$3,09\n",
      "R$78,90\n",
      "R$51,99\n"
     ]
    }
   ],
   "source": [
    "# auxiliar = driver.find_elements(By.TAG_NAME, 'h2')[2:50]\n",
    "# descricao_produtos = [ i.text   for i in auxiliar]\n",
    "\n",
    "# print(descricao_produtos)\n",
    "\n",
    "auxiliar2 = driver.find_elements(By.CLASS_NAME, \"price-to-mobile\")\n",
    "preco = [ i.text   for i in auxiliar2]\n",
    "\n",
    "for i in preco:\n",
    "    print(i)\n",
    "\n",
    "\n",
    "\n",
    "\n",
    "\n",
    "\n",
    "\n",
    "\n"
   ]
  }
 ],
 "metadata": {
  "kernelspec": {
   "display_name": "Python 3",
   "language": "python",
   "name": "python3"
  },
  "language_info": {
   "codemirror_mode": {
    "name": "ipython",
    "version": 3
   },
   "file_extension": ".py",
   "mimetype": "text/x-python",
   "name": "python",
   "nbconvert_exporter": "python",
   "pygments_lexer": "ipython3",
   "version": "3.12.3"
  }
 },
 "nbformat": 4,
 "nbformat_minor": 2
}
